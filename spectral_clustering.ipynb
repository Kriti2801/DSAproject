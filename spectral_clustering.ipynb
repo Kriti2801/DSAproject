{
 "cells": [
  {
   "cell_type": "code",
   "execution_count": 1,
   "metadata": {},
   "outputs": [],
   "source": [
    "import pandas as pd\n",
    "import numpy as np\n",
    "import matplotlib.pyplot as plt\n",
    "from sklearn.preprocessing import normalize, StandardScaler\n",
    "import scipy.cluster.hierarchy as shc\n",
    "from sklearn.cluster import SpectralClustering\n",
    "from sklearn.cluster import KMeans\n",
    "from pandas.compat import StringIO\n",
    "from sklearn.model_selection import train_test_split\n",
    "from sklearn.utils import shuffle\n",
    "import math\n",
    "from sklearn.decomposition import PCA\n",
    "from mpl_toolkits.mplot3d import Axes3D"
   ]
  },
  {
   "cell_type": "code",
   "execution_count": 2,
   "metadata": {},
   "outputs": [],
   "source": [
    "df = np.array(pd.read_csv('HTRU/HTRU_2.csv',sep=',',header=0))\n",
    "y = df[:,-1]\n",
    "y = y.reshape((y.shape[0],1))\n",
    "x = df[:,:-1]"
   ]
  },
  {
   "cell_type": "code",
   "execution_count": 3,
   "metadata": {},
   "outputs": [],
   "source": [
    "x = StandardScaler().fit_transform(x)"
   ]
  },
  {
   "cell_type": "code",
   "execution_count": null,
   "metadata": {},
   "outputs": [],
   "source": [
    "clusterings = []\n",
    "states = [0,1,3,5,10,12,17]\n",
    "for i in range(10):\n",
    "    clusterings.append(SpectralClustering(n_clusters=2,assign_labels=\"discretize\",random_state=states[i],n_jobs=-1).fit(x))"
   ]
  },
  {
   "cell_type": "code",
   "execution_count": null,
   "metadata": {},
   "outputs": [],
   "source": []
  },
  {
   "cell_type": "code",
   "execution_count": null,
   "metadata": {},
   "outputs": [],
   "source": [
    "y_pred = clustering.labels_\n",
    "print('1 cluster size =',len(np.where(y_pred==1)[0]))\n",
    "print('0 cluster size =',len(np.where(y_pred==0)[0]))"
   ]
  },
  {
   "cell_type": "code",
   "execution_count": null,
   "metadata": {},
   "outputs": [],
   "source": [
    "pos_0 = np.where(y_pred==0)[0]\n",
    "pos_1 = np.where(y_pred==1)[0]\n",
    "\n",
    "gt_0 = np.where(y==0)[0]\n",
    "gt_1 = np.where(y==1)[0]"
   ]
  },
  {
   "cell_type": "code",
   "execution_count": null,
   "metadata": {},
   "outputs": [],
   "source": [
    "count_0 = 0\n",
    "count_1 = 1\n",
    "\n",
    "for i in pos_0:\n",
    "    if y_pred[i] == y[i]:\n",
    "        count_0 +=1\n",
    "\n",
    "for i in pos_1:\n",
    "    if y_pred[i] == y[i]:\n",
    "        count_1 +=1\n",
    "        \n"
   ]
  },
  {
   "cell_type": "code",
   "execution_count": null,
   "metadata": {},
   "outputs": [],
   "source": [
    "print(\"Accuracy of {}'s prediction: {}\".format(0,round(count_0*100/len(gt_0),2)))\n",
    "print(\"Accuracy of {}'s prediction: {}\".format(1,round(count_1*100/len(gt_1),2)))\n",
    "print(\"Accuracy of overall prediction: {}\".format(round((count_1+count_0)*100/(len(gt_1)+len(gt_0)),2)))"
   ]
  },
  {
   "cell_type": "code",
   "execution_count": null,
   "metadata": {},
   "outputs": [],
   "source": []
  }
 ],
 "metadata": {
  "kernelspec": {
   "display_name": "Python 3",
   "language": "python",
   "name": "python3"
  },
  "language_info": {
   "codemirror_mode": {
    "name": "ipython",
    "version": 3
   },
   "file_extension": ".py",
   "mimetype": "text/x-python",
   "name": "python",
   "nbconvert_exporter": "python",
   "pygments_lexer": "ipython3",
   "version": "3.6.9"
  }
 },
 "nbformat": 4,
 "nbformat_minor": 4
}
