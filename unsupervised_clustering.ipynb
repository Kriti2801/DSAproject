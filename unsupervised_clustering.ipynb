{
 "cells": [
  {
   "cell_type": "code",
   "execution_count": 2,
   "metadata": {},
   "outputs": [],
   "source": [
    "import pandas as pd\n",
    "import numpy as np\n",
    "import matplotlib.pyplot as plt\n",
    "from sklearn.preprocessing import normalize\n",
    "import scipy.cluster.hierarchy as shc\n",
    "from sklearn.cluster import AgglomerativeClustering\n",
    "from sklearn.cluster import KMeans\n",
    "from pandas.compat import StringIO\n",
    "from sklearn.model_selection import train_test_split\n",
    "from sklearn.utils import shuffle\n",
    "import math"
   ]
  },
  {
   "cell_type": "markdown",
   "metadata": {},
   "source": [
    "# Data Set Information:\n",
    "CAR car acceptability\n",
    "\n",
    "## PRICE overall price\n",
    "\n",
    ". . buying buying price\n",
    "\n",
    ". . maint price of the maintenance\n",
    "\n",
    "## TECH technical characteristics\n",
    "\n",
    "### COMFORT comfort\n",
    "\n",
    ". . . doors number of doors\n",
    "\n",
    ". . . persons capacity in terms of persons to carry\n",
    "\n",
    ". . . lug_boot the size of luggage boot\n",
    "\n",
    "### safety estimated safety of the car\n",
    "\n",
    "The Car Evaluation Database contains examples with the structural information removed, i.e., directly relates CAR to the six input attributes: buying, maint, doors, persons, lug_boot, safety.\n",
    "\n",
    "Because of known underlying concept structure, this database may be particularly useful for testing constructive induction and structure discovery methods.\n",
    "\n",
    "## Attribute Information:\n",
    "\n",
    "Class Values: One hot vectors\n",
    "\n",
    "unacc, acc, good, vgood\n",
    "\n",
    "\n",
    "## Attributes:\n",
    "\n",
    "buying: vhigh, high, med, low.\n",
    "\n",
    "maint: vhigh, high, med, low.\n",
    "\n",
    "doors: 2, 3, 4, 5more.\n",
    "\n",
    "persons: 2, 4, more.\n",
    "\n",
    "lug_boot: small, med, big.\n",
    "\n",
    "safety: low, med, high. \n",
    "\n",
    "## Numbers are picked uniformly in the corresponding ranges \n",
    "\n",
    "vhigh: [7.5,10)\n",
    "\n",
    "high: [5,7.5)\n",
    "\n",
    "med: [2.5,5)\n",
    "\n",
    "low: [0.1,2.5)\n",
    "\n",
    "5more: [5,8) (integers)\n",
    "\n",
    "more: [5,30) (integers)\n",
    "\n",
    "small: [0.1,2.5)\n",
    "\n",
    "big: [5,7.5)\n"
   ]
  },
  {
   "cell_type": "code",
   "execution_count": null,
   "metadata": {},
   "outputs": [],
   "source": []
  },
  {
   "cell_type": "code",
   "execution_count": 14,
   "metadata": {},
   "outputs": [
    {
     "name": "stdout",
     "output_type": "stream",
     "text": [
      "(1628, 6) (1628,) (100, 6) (100,)\n"
     ]
    }
   ],
   "source": [
    "df = pd.read_csv('car.data',delimiter=',')\n",
    "Y = np.array(df['labels'])\n",
    "X_DATA = np.array(df)\n",
    "\n",
    "X = []\n",
    "X.append(df['buying'])\n",
    "X.append(df['maint'])\n",
    "X.append(df['doors'])\n",
    "X.append(df['persons'])\n",
    "X.append(df['lug_boot'])\n",
    "X.append(df['safety'])\n",
    "\n",
    "X = np.array(X).T\n",
    "\n",
    "X[X=='low'] = np.random.uniform(0.1,2.5)\n",
    "X[X=='med'] = np.random.uniform(2.5,5)\n",
    "X[X=='high'] = np.random.uniform(5,7.5)\n",
    "X[X=='vhigh'] = np.random.uniform(7.5,10)\n",
    "X[X=='5more'] = np.random.randint(5,8)\n",
    "X[X=='more'] = np.random.randint(5,30)\n",
    "X[X=='small'] =  np.random.uniform(0.1,2.5)\n",
    "X[X=='big'] = np.random.uniform(5,7.5)\n",
    "\n",
    "Y[Y=='unacc'] =0\n",
    "Y[Y=='acc'] =1\n",
    "Y[Y=='good'] =2\n",
    "Y[Y=='vgood'] =3\n",
    "\n",
    "X[X=='2'] = 2\n",
    "X[X=='3'] = 3\n",
    "X[X=='4'] = 4\n",
    "\n",
    "X = normalize(X)\n",
    "\n",
    "x_train,x_test,y_train,y_test= train_test_split(X,Y,test_size=100)\n",
    "\n",
    "print(x_train.shape,y_train.shape,x_test.shape,y_test.shape)"
   ]
  },
  {
   "cell_type": "code",
   "execution_count": 50,
   "metadata": {},
   "outputs": [],
   "source": [
    "# k2 = KMeans(n_clusters=2).fit(X)\n",
    "# k3 = KMeans(n_clusters=3).fit(X)\n",
    "k4 = KMeans(n_clusters=4,max_iter=30000).fit(X)\n",
    "# k1 = KMeans(n_clusters=1).fit(X)"
   ]
  },
  {
   "cell_type": "code",
   "execution_count": 51,
   "metadata": {},
   "outputs": [],
   "source": [
    "class_0 = X[np.where(k4.labels_ == 0)[0]]\n",
    "class_1 = X[np.where(k4.labels_ == 1)[0]]\n",
    "class_2 = X[np.where(k4.labels_ == 2)[0]]\n",
    "class_3 = X[np.where(k4.labels_ == 3)[0]]"
   ]
  },
  {
   "cell_type": "code",
   "execution_count": 52,
   "metadata": {},
   "outputs": [],
   "source": [
    "gt_0 = Y[np.where(Y == 0)[0]]\n",
    "gt_1 = Y[np.where(Y == 1)[0]]\n",
    "gt_2 = Y[np.where(Y == 2)[0]]\n",
    "gt_3 = Y[np.where(Y == 3)[0]]"
   ]
  },
  {
   "cell_type": "code",
   "execution_count": 53,
   "metadata": {},
   "outputs": [
    {
     "name": "stdout",
     "output_type": "stream",
     "text": [
      "(330, 6) (306, 6) (609, 6) (483, 6)\n"
     ]
    }
   ],
   "source": [
    "print(class_0.shape,class_1.shape,class_2.shape,class_3.shape)"
   ]
  },
  {
   "cell_type": "code",
   "execution_count": 54,
   "metadata": {},
   "outputs": [
    {
     "name": "stdout",
     "output_type": "stream",
     "text": [
      "(1210,) (384,) (69,) (65,)\n"
     ]
    }
   ],
   "source": [
    "print(gt_0.shape,gt_1.shape,gt_2.shape,gt_3.shape)"
   ]
  },
  {
   "cell_type": "code",
   "execution_count": null,
   "metadata": {},
   "outputs": [],
   "source": []
  }
 ],
 "metadata": {
  "kernelspec": {
   "display_name": "Python 3",
   "language": "python",
   "name": "python3"
  },
  "language_info": {
   "codemirror_mode": {
    "name": "ipython",
    "version": 3
   },
   "file_extension": ".py",
   "mimetype": "text/x-python",
   "name": "python",
   "nbconvert_exporter": "python",
   "pygments_lexer": "ipython3",
   "version": "3.6.9"
  }
 },
 "nbformat": 4,
 "nbformat_minor": 4
}
