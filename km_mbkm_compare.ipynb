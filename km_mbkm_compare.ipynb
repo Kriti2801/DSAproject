{
 "cells": [
  {
   "cell_type": "code",
   "execution_count": 1,
   "metadata": {},
   "outputs": [],
   "source": [
    "import numpy as np\n",
    "import matplotlib.pyplot as plt\n",
    "import pandas as pd\n",
    "from sklearn.cluster import KMeans, MiniBatchKMeans\n",
    "from sklearn.preprocessing import StandardScaler\n",
    "import math"
   ]
  },
  {
   "cell_type": "code",
   "execution_count": 2,
   "metadata": {},
   "outputs": [],
   "source": [
    "data = pd.read_csv('HTRU2/HTRU_2.csv',sep=',',header=0)\n",
    "# print data.loc[0,:]\n",
    "y = data[\"class\"]\n",
    "# print data.shape\n",
    "r,c = data.shape\n",
    "# print r,c\n",
    "X = np.zeros((r,c-1))\n",
    "cols = data.columns.tolist()\n",
    "# print cols\n",
    "#['m_ip', 'sd_ip', 'ek_ip', 'sk_ip', 'm_dmsnr', 'sd_dmsnr', 'ek_dmsnr', 'sk_dmsnr', 'class']\n",
    "X[:,0] = data[cols[0]]\n",
    "X[:,1] = data[cols[1]]\n",
    "X[:,2] = data[cols[2]]\n",
    "X[:,3] = data[cols[3]]\n",
    "X[:,4] = data[cols[4]]\n",
    "X[:,5] = data[cols[5]]\n",
    "X[:,6] = data[cols[6]]\n",
    "X[:,7] = data[cols[7]]"
   ]
  },
  {
   "cell_type": "code",
   "execution_count": 3,
   "metadata": {
    "scrolled": true
   },
   "outputs": [
    {
     "name": "stdout",
     "output_type": "stream",
     "text": [
      "Total number of data points:  17898 \n",
      "\n"
     ]
    }
   ],
   "source": [
    "X = StandardScaler().fit_transform(X)\n",
    "print \"Total number of data points: \",len(y),\"\\n\"\n",
    "iters = 10000\n",
    "km_over_acc = np.zeros(iters)\n",
    "km_0s_acc = np.zeros(iters)\n",
    "km_1s_acc = np.zeros(iters)\n",
    "\n",
    "mbk_over_acc = np.zeros(iters)\n",
    "mbk_0s_acc = np.zeros(iters)\n",
    "mbk_1s_acc = np.zeros(iters)"
   ]
  },
  {
   "cell_type": "code",
   "execution_count": 4,
   "metadata": {},
   "outputs": [],
   "source": [
    "for i in range(iters):\n",
    "# \tprint \"Iteration = %d\" %i,\" :\\n\"\n",
    "\tkm = KMeans(n_clusters = 2,max_iter=200,init='k-means++',n_init=1, n_jobs = 4, random_state=i)\n",
    "\tkm.fit(X)\n",
    "\tcenters = km.cluster_centers_\n",
    "\tnew_labels_km = km.labels_\n",
    "\tnewlabels_km = np.array(new_labels_km)\n",
    "\t\n",
    "\ty_vals = np.array(y.tolist())\n",
    "\tcorr_preds_tot_km = np.sum(newlabels_km==y_vals)\n",
    "\tkm_over_acc[i] = corr_preds_tot_km*100.0/len(newlabels_km)\n",
    "\tif km_over_acc[i]<50.0:\n",
    "\t\tnewlabels_km[newlabels_km==1]=2\n",
    "\t\tnewlabels_km[newlabels_km==0]=1\n",
    "\t\tnewlabels_km[newlabels_km==2]=0\n",
    "\tcorr_preds_tot_km = np.sum(newlabels_km==y_vals)\n",
    "\tkm_over_acc[i] = corr_preds_tot_km*100.0/len(newlabels_km)\n",
    "\t\n",
    "\t# print \"Results of KMeans: \"\n",
    "\t# print \"\\tTotal number of correct predictions by : \",corr_preds_tot_km #in how many places both arrays have same elements\n",
    "\t# print \"\\tOverall Accuracy = \",km_over_acc[i]\n",
    "\tcount_km = np.zeros((2),dtype=int)\n",
    "\tfor p in range(len(newlabels_km)):\n",
    "\t\tif y_vals[p]==0 and y_vals[p]==newlabels_km[p]:\n",
    "\t\t\tcount_km[0] = count_km[0]+1\n",
    "\t\tif y_vals[p]==1 and y_vals[p]==newlabels_km[p]:\n",
    "\t\t\tcount_km[1] = count_km[1]+1\n",
    "\t# print count_km\n",
    "\tkm_0s_acc[i] = count_km[0]*100.0/16259\n",
    "\tkm_1s_acc[i] = count_km[1]*100.0/1639\n",
    "\n",
    "\t# print \"\\tCorrectly predicted 0s: \",count_km[0],\" out of 16,259\"\n",
    "\t# print \"\\tAccuracy of 0s prediction: \", km_0s_acc[i]\n",
    "\t# print \"\\tCorrectly predicted 1s: \",count_km[1],\" out of 1,639\"\n",
    "\t# print \"\\tAccuracy of 1s prediction: \", km_1s_acc[i]\n",
    "\t# print \"\\n\"\n",
    "\n",
    "\tmbk = MiniBatchKMeans(n_clusters = 2,max_iter=200,init='k-means++', n_init = 1, random_state=i)\n",
    "\tmbk.fit(X)\n",
    "\tcenters = mbk.cluster_centers_\n",
    "\tnew_labels_mbk = mbk.labels_\n",
    "\tnewlabels_mbk = np.array(new_labels_mbk)\n",
    "\t# y_vals = np.array(y.tolist())\n",
    "\tcorr_preds_tot_mbk = np.sum(newlabels_mbk==y_vals)\n",
    "\tmbk_over_acc[i] = corr_preds_tot_mbk*100.0/len(newlabels_mbk)\n",
    "\tif mbk_over_acc[i]<50.0:\n",
    "\t\tnewlabels_mbk[newlabels_mbk==1]=2\n",
    "\t\tnewlabels_mbk[newlabels_mbk==0]=1\n",
    "\t\tnewlabels_mbk[newlabels_mbk==2]=0\n",
    "\tcorr_preds_tot_mbk = np.sum(newlabels_mbk==y_vals)\n",
    "\tmbk_over_acc[i] = corr_preds_tot_mbk*100.0/len(newlabels_mbk)\n",
    "\t# print \"Results of MiniBatchKMeans: \"\n",
    "\t# print \"\\tTotal number of data points: \",len(newlabels_mbk)\n",
    "\t# print \"\\tTotal number of correct predictions: \",corr_preds_tot_mbk #in how many places both arrays have same elements\n",
    "\t# print \"\\tOverall Accuracy = \",mbk_over_acc[i]\n",
    "\tcount_mbk = np.zeros((2),dtype=int)\n",
    "\tfor q in range(len(newlabels_mbk)):\n",
    "\t\tif y_vals[q]==0 and y_vals[q]==newlabels_mbk[q]:\n",
    "\t\t\tcount_mbk[0] = count_mbk[0]+1\n",
    "\t\tif y_vals[q]==1 and y_vals[q]==newlabels_mbk[q]:\n",
    "\t\t\tcount_mbk[1] = count_mbk[1]+1\n",
    "\t# print count_mbk\n",
    "\n",
    "\tmbk_0s_acc[i] = count_mbk[0]*100.0/16259\n",
    "\tmbk_1s_acc[i] = count_mbk[1]*100.0/1639\n",
    "\t# print \"\\tCorrectly predicted 0s: \",count_mbk[0],\" out of 16,259\"\n",
    "\t# print \"\\tAccuracy of 0s prediction: \", mbk_0s_acc[i]\n",
    "\t# print \"\\tCorrectly predicted 1s: \",count_mbk[1],\" out of 1,639\"\n",
    "\t# print \"\\tAccuracy of 1s prediction: \", mbk_1s_acc[i]"
   ]
  },
  {
   "cell_type": "code",
   "execution_count": 5,
   "metadata": {
    "scrolled": true
   },
   "outputs": [],
   "source": [
    "# print km_over_acc,mbk_over_acc"
   ]
  },
  {
   "cell_type": "code",
   "execution_count": 6,
   "metadata": {},
   "outputs": [
    {
     "name": "stdout",
     "output_type": "stream",
     "text": [
      "6653 5936 4742\n"
     ]
    }
   ],
   "source": [
    "res_acc = 0\n",
    "res_0s_acc = 0\n",
    "res_1s_acc = 0\n",
    "\n",
    "for i in range(len(km_over_acc)):\n",
    "    if km_over_acc[i]>mbk_over_acc[i]:\n",
    "        res_acc = res_acc+1\n",
    "    if km_0s_acc[i]>mbk_0s_acc[i]:\n",
    "        res_0s_acc = res_0s_acc+1\n",
    "    if km_1s_acc[i]>mbk_1s_acc[i]:\n",
    "        res_1s_acc = res_1s_acc+1\n",
    "    \n",
    "print res_acc,res_0s_acc,res_1s_acc"
   ]
  }
 ],
 "metadata": {
  "kernelspec": {
   "display_name": "Python 3",
   "language": "python",
   "name": "python3"
  },
  "language_info": {
   "codemirror_mode": {
    "name": "ipython",
    "version": 3
   },
   "file_extension": ".py",
   "mimetype": "text/x-python",
   "name": "python",
   "nbconvert_exporter": "python",
   "pygments_lexer": "ipython3",
   "version": "3.6.9"
  }
 },
 "nbformat": 4,
 "nbformat_minor": 4
}
