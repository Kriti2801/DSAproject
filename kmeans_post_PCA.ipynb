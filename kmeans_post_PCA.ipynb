{
 "cells": [
  {
   "cell_type": "code",
   "execution_count": 48,
   "metadata": {},
   "outputs": [],
   "source": [
    "import pandas as pd\n",
    "import numpy as np\n",
    "import matplotlib.pyplot as plt\n",
    "from sklearn.preprocessing import normalize\n",
    "import scipy.cluster.hierarchy as shc\n",
    "from sklearn.cluster import AgglomerativeClustering\n",
    "from sklearn.cluster import KMeans\n",
    "from pandas.compat import StringIO\n",
    "from sklearn.model_selection import train_test_split\n",
    "from sklearn.utils import shuffle\n",
    "import math\n",
    "from sklearn.preprocessing import normalize, StandardScaler\n",
    "from sklearn.decomposition import PCA\n"
   ]
  },
  {
   "cell_type": "code",
   "execution_count": 49,
   "metadata": {},
   "outputs": [],
   "source": [
    "df = np.array(pd.read_csv('HTRU/HTRU_2.csv',sep=',',header=0))\n",
    "y = df[:,-1]\n",
    "y = y.reshape((y.shape[0],1))\n",
    "x = df[:,:-1]\n",
    "\n",
    "gt_0 = np.where(y==0)[0]\n",
    "gt_1 = np.where(y==1)[0]"
   ]
  },
  {
   "cell_type": "code",
   "execution_count": 50,
   "metadata": {},
   "outputs": [],
   "source": [
    "x = StandardScaler().fit_transform(x)"
   ]
  },
  {
   "cell_type": "code",
   "execution_count": 51,
   "metadata": {},
   "outputs": [
    {
     "data": {
      "text/plain": [
       "(17897, 8)"
      ]
     },
     "execution_count": 51,
     "metadata": {},
     "output_type": "execute_result"
    }
   ],
   "source": [
    "x.shape"
   ]
  },
  {
   "cell_type": "code",
   "execution_count": 52,
   "metadata": {},
   "outputs": [
    {
     "name": "stdout",
     "output_type": "stream",
     "text": [
      "2 99.54 69.74 96.81\n",
      "3 95.36 78.04 93.78\n",
      "4 95.25 78.04 93.67\n",
      "5 95.25 78.1 93.67\n",
      "6 95.21 78.16 93.65\n",
      "7 95.23 78.16 93.66\n"
     ]
    }
   ],
   "source": [
    "\n",
    "\n",
    "\n",
    "\n",
    "components= [2,3,4,5,6,7]\n",
    "for i in components:\n",
    "    x_PCA = PCA(n_components=i).fit_transform(x)\n",
    "    clustering = KMeans(n_clusters=2).fit(x_PCA)\n",
    "    y_pred = clustering.labels_\n",
    "    \n",
    "    pos_0 = np.where(y_pred==0)[0]\n",
    "    pos_1 = np.where(y_pred==1)[0]\n",
    "    \n",
    "    if len(pos_0)<len(pos_1):\n",
    "        temp = pos_0\n",
    "        pos_0 = pos_1\n",
    "        pos_1 = temp\n",
    "        y_pred[pos_0] = 0\n",
    "        y_pred[pos_1] = 1\n",
    "        \n",
    "    count_0 = 0\n",
    "    count_1 = 0\n",
    "\n",
    "    for j in pos_0:\n",
    "        if y_pred[j] == y[j]:\n",
    "            count_0 +=1\n",
    "\n",
    "    for j in pos_1:\n",
    "        if y_pred[j] == y[j]:\n",
    "            count_1 +=1\n",
    "            \n",
    "#     print(\"\\nPCA Components = {}  ==========================================\".format(i))\n",
    "#     print(\"total 0s \",len(pos_0),\";total 1s \",len(pos_1))\n",
    "#     print(\"Accuracy of {}'s prediction: {}\".format(0,round(count_0*100/len(gt_0),2)))\n",
    "#     print(\"Accuracy of {}'s prediction: {}\".format(1,round(count_1*100/len(gt_1),2)))\n",
    "#     print(\"Accuracy of overall prediction: {}\".format(round((count_1+count_0)*100/(len(gt_1)+len(gt_0)),2)))\n",
    "    print(i,round(count_0*100/len(gt_0),2),round(count_1*100/len(gt_1),2),round((count_1+count_0)*100/(len(gt_1)+len(gt_0)),2))"
   ]
  },
  {
   "cell_type": "code",
   "execution_count": 53,
   "metadata": {},
   "outputs": [
    {
     "name": "stdout",
     "output_type": "stream",
     "text": [
      "95.23 78.16 93.66\n"
     ]
    }
   ],
   "source": [
    "cluster = KMeans(n_clusters=2).fit(x)\n",
    "y_pred = clustering.labels_\n",
    "    \n",
    "pos_0 = np.where(y_pred==0)[0]\n",
    "pos_1 = np.where(y_pred==1)[0]\n",
    "\n",
    "if len(pos_0)<len(pos_1):\n",
    "    temp = pos_0\n",
    "    pos_0 = pos_1\n",
    "    pos_1 = temp\n",
    "    y_pred[pos_0] = 0\n",
    "    y_pred[pos_1] = 1\n",
    "\n",
    "count_0 = 0\n",
    "count_1 = 0\n",
    "\n",
    "for j in pos_0:\n",
    "    if y_pred[j] == y[j]:\n",
    "        count_0 +=1\n",
    "\n",
    "for j in pos_1:\n",
    "    if y_pred[j] == y[j]:\n",
    "        count_1 +=1\n",
    "        \n",
    "print(round(count_0*100/len(gt_0),2),round(count_1*100/len(gt_1),2),round((count_1+count_0)*100/(len(gt_1)+len(gt_0)),2))"
   ]
  },
  {
   "cell_type": "code",
   "execution_count": null,
   "metadata": {},
   "outputs": [],
   "source": []
  }
 ],
 "metadata": {
  "kernelspec": {
   "display_name": "Python 3",
   "language": "python",
   "name": "python3"
  },
  "language_info": {
   "codemirror_mode": {
    "name": "ipython",
    "version": 3
   },
   "file_extension": ".py",
   "mimetype": "text/x-python",
   "name": "python",
   "nbconvert_exporter": "python",
   "pygments_lexer": "ipython3",
   "version": "3.6.9"
  }
 },
 "nbformat": 4,
 "nbformat_minor": 4
}
